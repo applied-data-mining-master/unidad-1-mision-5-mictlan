{
 "cells": [
  {
   "cell_type": "markdown",
   "metadata": {},
   "source": [
    "# Exercise 1.04: Tic-Tac-Toe Static Evaluation with a Heuristic Function\n",
    "In this exercise, you will be performing a static evaluation on the tic-tac-toe game using a heuristic function."
   ]
  },
  {
   "cell_type": "markdown",
   "metadata": {},
   "source": [
    "1.- Reuse the code from Steps 1–5 of Activity 1.01"
   ]
  },
  {
   "cell_type": "code",
   "execution_count": 1,
   "metadata": {},
   "outputs": [],
   "source": [
    "from random import choice\n",
    "combo_indices = [[1,2,3],[4,5,6],[7,8,9],[1,4,7],[2,5,8],[3,6,9],[1,5,9],[3,5,7]]\n",
    "\n",
    "emptyC = '#'\n",
    "AI = 'X'\n",
    "OP = 'O'\n",
    "\n",
    "def Tablero(tabla):\n",
    "    print(\" \")\n",
    "    print(' '.join(tabla[0:3:1]))\n",
    "    print(' '.join(tabla[3:6:1]))\n",
    "    print(' '.join(tabla[6:9:1]))\n",
    "    print(\" \")\n",
    "\n",
    "def movimientoPersona(tabla, fila, columna):\n",
    "    movimientoP = (3 * (fila - 1)) + (columna - 1) \n",
    "    if (tabla[movimientoP] == emptyC):\n",
    "        tabla = tabla[0:movimientoP] + OP + tabla[movimientoP+1:9] \n",
    "    return tabla\n",
    "\n",
    "def all_moves_from_board(board, sign):\n",
    "    contador = 0\n",
    "    opciones = []\n",
    "    posiciones = []\n",
    "    for v in board:\n",
    "        if (v == emptyC): \n",
    "            posiciones.append(contador)\n",
    "        contador+=1\n",
    "    for a in posiciones:\n",
    "        opciones.append(board[0:a] + sign + board[a+1:9])\n",
    "    return (opciones)\n",
    "\n",
    "def ai_move(board):\n",
    "    movimientoAI = choice(all_moves_from_board(board,AI))       \n",
    "    return movimientoAI \n",
    "\n",
    "def game_won_by(tablero):\n",
    "    for item in combo_indices:\n",
    "        if (tablero[item[0]-1] == tablero[item[1]-1] == tablero[item[2]-1] == OP):\n",
    "            return OP\n",
    "        elif (tablero[item[0]-1] == tablero[item[1]-1] == tablero[item[2]-1] == AI):\n",
    "            return AI\n",
    "    return emptyC\n",
    "\n",
    "def game_loop():\n",
    "    board = emptyC * 9\n",
    "    empty_cell_count = 9\n",
    "    winner = \"#\"\n",
    "    while (empty_cell_count >= 0 and  (winner !=\"#\")): \n",
    "        print(empty_cell_count)\n",
    "        if (empty_cell_count % 2 == 0):\n",
    "            board = ai_move(board)\n",
    "            Tablero(board)\n",
    "        else:\n",
    "            fila = int(input('Elija la fila.'))\n",
    "            columna = int(input('Elija la columna'))\n",
    "            board = movimientoPersona(board,fila,columna)    \n",
    "        winner = game_won_by(board)\n",
    "        if(winner != emptyC):\n",
    "            Tablero(board)\n",
    "            break     \n",
    "        empty_cell_count-=1\n",
    "    print(\"El juego termino\")\n",
    "    \n",
    "def Partidas(tablero, signo):\n",
    "    jugadas = []\n",
    "    for board in tablero:\n",
    "        jugadas.extend(all_moves_from_board(board, signo))\n",
    "    return jugadas\n",
    "\n",
    "def filter_wins(tableros, AI_wins, OP_wins):\n",
    "    for tab in tableros:\n",
    "        win = game_won_by(tab)\n",
    "        if (win == AI):\n",
    "            AI_wins.append(tab)\n",
    "            tableros.remove(tab)\n",
    "        elif (win  == OP):\n",
    "            OP_wins.append(tab)\n",
    "            tableros.remove(tab)\n",
    "            \n",
    "def count_possibilities():\n",
    "    jugadas = [emptyC * 9]\n",
    "    AI_wins = []\n",
    "    OP_wins = []\n",
    "    print (\"Possible Sequences of Steps:\")\n",
    "    for i in range(9):\n",
    "        print('step ' + str(i) + '. Moves: ' + str(len(jugadas)))\n",
    "        if (i % 2 == 0):\n",
    "            signo = AI\n",
    "        elif (i % 2 == 1):\n",
    "            signo = OP\n",
    "        jugadas = Partidas(jugadas, signo)\n",
    "        filter_wins(jugadas, AI_wins, OP_wins)\n",
    "    print('First player wins: ' + str(len(AI_wins)))\n",
    "    print('Second player wins: ' + str(len(OP_wins)))\n",
    "    print('Draw', str(len(jugadas)))\n",
    "    print('Total', str(len(AI_wins) + len(OP_wins) + len(jugadas)))"
   ]
  },
  {
   "cell_type": "markdown",
   "metadata": {},
   "source": [
    "2.- Create a function that takes the board as input and returns $0$ if the cell is empty, and $-1$ if it's not empty"
   ]
  },
  {
   "cell_type": "code",
   "execution_count": 2,
   "metadata": {},
   "outputs": [],
   "source": [
    "\"\"\"\n",
    "La función de este metodo es la siguiente compara cada una de las celdas del tablero, si una celda del tablero es igual a emptyC se añadira \n",
    "un 0 a la lista \"lista\", en caso contrario se añadira un -1 a la lista \"lista\".\n",
    "Despues de terminar de comparar y añadir 0 y -1 a la lista, esta sera retornada.\"\"\"\n",
    "def comparador(tablero):\n",
    "    lista = []\n",
    "    for celda in tablero:\n",
    "        if celda == emptyC:\n",
    "            lista.append(0)\n",
    "        else:\n",
    "            lista.append(-1)\n",
    "    return lista"
   ]
  },
  {
   "cell_type": "markdown",
   "metadata": {},
   "source": [
    "3.- Create a function that takes the utility vector of possible moves, takes three indices inside the utility vector representing a triple, and returns a function.\n",
    "\n",
    "  > **Hints**  \n",
    "  > the returned function will expect a `points` parameter and the `utilities` vector as input and will add points to each cell in $(i, j, k)$, as long as the original value of that cell is non-negative $(>=0)$. In other words, we increased the utility of empty cells only."
   ]
  },
  {
   "cell_type": "code",
   "execution_count": 3,
   "metadata": {},
   "outputs": [],
   "source": [
    "\"\"\"\n",
    "Este metodo recibe la lista que fue retornada del metodo anterior y tambien recibe los indices que se tienen en la variable \"combo_indices\"\n",
    "y dentro de del metodo se encuentra un metodo interno que va sumando los puntos recibidos del cumplimiento de las reglas que se han\n",
    "establecido\"\"\"\n",
    "def generate_add_score(utilities,i,j,k):\n",
    "    def evaluar(points):\n",
    "        if utilities[i-1] >= 0:\n",
    "            utilities[i-1] += points\n",
    "        if utilities[j-1] >= 0:\n",
    "            utilities[j-1] += points\n",
    "        if utilities[k-1] >= 0:\n",
    "            utilities[k-1] += points\n",
    "    return evaluar"
   ]
  },
  {
   "cell_type": "markdown",
   "metadata": {},
   "source": [
    "4.- Now, create the utility matrix belonging to any board constellation where you will add the `generate_add_score` function defined previously to update the score. You will also implement the rules that we discussed prior to this activity. These rules are as follows:\n",
    "  * Two AI signs in a row, column, or diagonal, and the third cell is empty: +1000 for the empty cell.\n",
    "  * The opponent has two signs in a row, column, or diagonal, and the third cell is empty: +100 for the empty cell.\n",
    "  * One AI sign in a row, column, or diagonal, and the other two cells are empty: +10 for the empty cells.\n",
    "  * No AI or opponent signs in a row, column, or diagonal: +1 for the empty cells."
   ]
  },
  {
   "cell_type": "code",
   "execution_count": 4,
   "metadata": {},
   "outputs": [],
   "source": [
    "\"\"\"\n",
    "Lo que refleja este metodo es el cumplimiento de las reglas establecidas en el punto 4 para darle una puntuacion a cada una de las celdas\n",
    "dentro de la matriz de utilidades, la variable \"puntuacion\" toma la lista que es retornada del metodo \"comparador\", despues se hace un\n",
    "for para sacar los 3 valores de los indices de la variable \"combo_indices\", esto se hace para tener los indices que son usados para poder\n",
    "ganar en el juego del gato.\n",
    "los indices son guardados en las variables \"i\", \"j\", \"k\", ya dentro del for a la variable \"evaluar\" se le es asigando el metodo\n",
    "generate_add_score, pero ya habiendo visto el metodo ya mencionado y sabiendo que este cuenta el retorno de su metodo interno, se da a \n",
    "entender que la variable \"evaluar\" de alguna manera se convierte en el metodo interno de generate_add_score.\n",
    "la variable \"indices\", es una lista en la cual se van guardando los valores de los indices \"i\",\"j\",\"k\" dentro del tablero,\n",
    "cada uno de los if que se pueden ver, son el cumplimiento de cada una de las reglas dichas en el punto 4, si alguna de estas se cumple a la\n",
    "variable \"eavluar\", que ahora se comporta como el metodo interno de generate_add_score, se le pasa la puntuacion que se merece al cumplir\n",
    "con alguna de las reglas propuestas anteriormente.\n",
    "Al terminar de evaluar la variable puntuación es retornada\"\"\"\n",
    "def utility_matrix(tablero):\n",
    "    puntuacion = comparador(tablero)\n",
    "    for [i,j,k] in combo_indices:\n",
    "        evaluar = generate_add_score(puntuacion,i,j,k)\n",
    "        indices = [tablero[i-1],tablero[j-1],tablero[k-1]]\n",
    "        if indices.count(AI) == 2 and indices.count(emptyC) == 1:\n",
    "            evaluar(1000)\n",
    "        if indices.count(OP) == 2 and indices.count(emptyC) == 1:\n",
    "            evaluar(100)\n",
    "        if indices.count(AI) == 1 and indices.count(emptyC) == 2:\n",
    "            evaluar(10)\n",
    "        if indices.count(emptyC) == 3:\n",
    "            evaluar(1)\n",
    "    return puntuacion"
   ]
  },
  {
   "cell_type": "markdown",
   "metadata": {},
   "source": [
    "5.- Create a function that selects the move with the highest utility value. If multiple moves have the same utility, the function returns both moves"
   ]
  },
  {
   "cell_type": "code",
   "execution_count": 5,
   "metadata": {},
   "outputs": [],
   "source": [
    "\"\"\"\n",
    "EL metodo de mejor_movimiento recibe el tablero y el signo de la IA, lo principalmente que sea hace aqui es la seleccion del mejor movimiento\n",
    "que la IA puede hacer para poder ganar, la variable \"puntuacion\" recibie la matriz de utilidades y la variable \"mejor_puntuacion\" almacena\n",
    "la mejor puntuacion que se encuentra dentro de la matriz de utilidades, en el metodo for lo que se va haciendo es la busqueda de la mejor\n",
    "decisión que puede tomar la IA para poder ganar, cuando la variable \"puntuacion\" en la posicion de la variable \"contador\" es igual a la\n",
    "variable \"mejor_puntuacion\", el tablero sera añadaido a la lista \"movimientos\".\n",
    "Despues de la comparación dentro del metodo for, la lista \"movimientos\" sera retornada.\n",
    "\"\"\"\n",
    "def mejor_movimiento(tablero, signo):\n",
    "    movimientos = []\n",
    "    contador = 0\n",
    "    puntuacion = utility_matrix(tablero)\n",
    "    mejor_puntuacion = max(puntuacion)\n",
    "    for v in tablero:\n",
    "        if puntuacion[contador] == mejor_puntuacion:\n",
    "            movimientos.append(tablero[:contador] + signo + tablero[contador+1:])\n",
    "        contador+=1\n",
    "    return movimientos\n",
    "\n",
    "\"\"\"\n",
    "Este metodo lo que hace es ir agrupando las jugadas que tanto IA como el oponente hacen, este metodo recible el tablero y el signo del jugador\n",
    "que esta jugando en ese momento determinado, si es el IA, la variable \"movimientos\" funcionara como el metodo \"mejor_movimiento\" y si es el\n",
    "oponente funcionara como el metodo \"all_moves_from_board\", dentro del for se hara uno de los dos metodos dependiendo de que jugador es y al\n",
    "final este retornara la lista de jugadas que se pueden hacer para cada jugador\n",
    "\"\"\"\n",
    "def Partidas(tablero, signo):\n",
    "    jugadas = []\n",
    "    if signo == AI:\n",
    "        movimientos = mejor_movimiento\n",
    "    else:\n",
    "        movimientos = all_moves_from_board\n",
    "    for board in tablero:\n",
    "        jugadas.extend(movimientos(board, signo))\n",
    "    return jugadas"
   ]
  },
  {
   "cell_type": "markdown",
   "metadata": {},
   "source": [
    "6.- Run the application.\n",
    "\n",
    "Output:\n",
    "\n",
    "```\n",
    "step 0. Moves: 1\n",
    "step 1. Moves: 1\n",
    "step 2. Moves: 8\n",
    "step 3. Moves: 24\n",
    "step 4. Moves: 144\n",
    "step 5. Moves: 83\n",
    "step 6. Moves: 214\n",
    "step 7. Moves: 148\n",
    "step 8. Moves: 172\n",
    "First player wins: 504\n",
    "Second player wins: 12\n",
    "Draw 91\n",
    "Total 607\n",
    "```"
   ]
  },
  {
   "cell_type": "code",
   "execution_count": 6,
   "metadata": {},
   "outputs": [
    {
     "name": "stdout",
     "output_type": "stream",
     "text": [
      "Possible Sequences of Steps:\n",
      "step 0. Moves: 1\n",
      "step 1. Moves: 1\n",
      "step 2. Moves: 8\n",
      "step 3. Moves: 24\n",
      "step 4. Moves: 144\n",
      "step 5. Moves: 83\n",
      "step 6. Moves: 214\n",
      "step 7. Moves: 148\n",
      "step 8. Moves: 172\n",
      "First player wins: 504\n",
      "Second player wins: 12\n",
      "Draw 91\n",
      "Total 607\n"
     ]
    }
   ],
   "source": [
    "\"\"\"El metodo count_possiblities es llamado\"\"\"\n",
    "count_possibilities()"
   ]
  },
  {
   "cell_type": "markdown",
   "metadata": {},
   "source": [
    "By completing this exercise, we have observed that the AI is underperforming compared to our previous activity, Activity 1.03, Fixing the First and Second Moves of the AI to Make It Invincible. In this situation, hardcoding the first two moves was better than setting up the heuristic, but this is because we haven't set up the heuristic properly."
   ]
  },
  {
   "cell_type": "code",
   "execution_count": null,
   "metadata": {},
   "outputs": [],
   "source": []
  }
 ],
 "metadata": {
  "kernelspec": {
   "display_name": "Python 3",
   "language": "python",
   "name": "python3"
  },
  "language_info": {
   "codemirror_mode": {
    "name": "ipython",
    "version": 3
   },
   "file_extension": ".py",
   "mimetype": "text/x-python",
   "name": "python",
   "nbconvert_exporter": "python",
   "pygments_lexer": "ipython3",
   "version": "3.8.5"
  }
 },
 "nbformat": 4,
 "nbformat_minor": 4
}
